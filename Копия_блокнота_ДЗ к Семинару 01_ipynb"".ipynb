{
  "nbformat": 4,
  "nbformat_minor": 0,
  "metadata": {
    "colab": {
      "provenance": [],
      "authorship_tag": "ABX9TyOL0bmMr03aOpEbwadxGR04",
      "include_colab_link": true
    },
    "kernelspec": {
      "name": "python3",
      "display_name": "Python 3"
    },
    "language_info": {
      "name": "python"
    }
  },
  "cells": [
    {
      "cell_type": "markdown",
      "metadata": {
        "id": "view-in-github",
        "colab_type": "text"
      },
      "source": [
        "<a href=\"https://colab.research.google.com/github/ValeriiLubiako/MyFirstRepository/blob/master/%D0%9A%D0%BE%D0%BF%D0%B8%D1%8F_%D0%B1%D0%BB%D0%BE%D0%BA%D0%BD%D0%BE%D1%82%D0%B0_%D0%94%D0%97%20%D0%BA%20%D0%A1%D0%B5%D0%BC%D0%B8%D0%BD%D0%B0%D1%80%D1%83%2001_ipynb%22%22.ipynb\" target=\"_parent\"><img src=\"https://colab.research.google.com/assets/colab-badge.svg\" alt=\"Open In Colab\"/></a>"
      ]
    },
    {
      "cell_type": "code",
      "execution_count": null,
      "metadata": {
        "id": "mk_SBrUZx7GI"
      },
      "outputs": [],
      "source": []
    },
    {
      "cell_type": "markdown",
      "source": [
        "#Основы языка Python для аналитиков (семинары)#\n",
        "\n",
        "##__Урок 1.__ _Оформление ноутбука и закрепление функций и генераторов_##\n",
        "\n"
      ],
      "metadata": {
        "id": "PzkMODOdx8fV"
      }
    },
    {
      "cell_type": "markdown",
      "source": [
        "##Условие 1:##\n",
        "\n",
        "###Оформляйте ноутбук, используя эти советы:###\n",
        "\n",
        "_Номер задачи - заголовок 2_\n",
        "\n",
        "_Номер подзадачи - заголовок 3_\n",
        "\n",
        "_Предоставленные наборы данных оформляйте, как код_"
      ],
      "metadata": {
        "id": "nhdQqq7IzAui"
      }
    },
    {
      "cell_type": "markdown",
      "source": [],
      "metadata": {
        "id": "3PUIMC6hz39J"
      }
    },
    {
      "cell_type": "markdown",
      "source": [
        "##Условие 2:##\n",
        "\n",
        "На складе лежат разные фрукты в разном количестве.<br>Нужно _написать функцию_, которая на вход принимает любое количество названий <br>фруктов и их количество, а возвращает общее количество фруктов на складе"
      ],
      "metadata": {
        "id": "XN1TKG2ZzqZB"
      }
    },
    {
      "cell_type": "code",
      "source": [
        "def summarize_fruits(**kwargs):\n",
        "#  print(type(kwargs))\n",
        "  print()\n",
        "  totalweight = 0\n",
        "  print(\"Fruits_in_Stock:\")\n",
        "  print()\n",
        "  for key, value in kwargs.items():\n",
        "    print(f'{key}-{value} kgs')\n",
        "    totalweight=totalweight + value\n",
        "  return totalweight\n",
        "\n",
        "fruits_data = {\"Bananas\":20, \"Oranges\":30, \"Apples\":5}\n",
        "weight_of_Fruits_in_stock=summarize_fruits(**fruits_data)\n",
        "print()\n",
        "print( f\"Total_weight_of_Fruits_in_stock = {weight_of_Fruits_in_stock} kgs\")"
      ],
      "metadata": {
        "colab": {
          "base_uri": "https://localhost:8080/"
        },
        "id": "PyWYmwuTy-hi",
        "outputId": "c6e643d0-87b0-4d33-c31c-1250d6582dbb"
      },
      "execution_count": null,
      "outputs": [
        {
          "output_type": "stream",
          "name": "stdout",
          "text": [
            "\n",
            "Fruits_in_Stock:\n",
            "\n",
            "Bananas-20 kgs\n",
            "Oranges-30 kgs\n",
            "Apples-5 kgs\n",
            "\n",
            "Total_weight_of_Fruits_in_stock = 55 kgs\n"
          ]
        }
      ]
    },
    {
      "cell_type": "markdown",
      "source": [
        "##Условие 3:##\n",
        "\n",
        "Дан список с затратами на рекламу. Но в данных есть ошибки, <br>некоторые затраты\n",
        "___имеют отрицательную величину___. <br>_Удалите_ такие значения из списка и посчитайте\n",
        "суммарные затраты\n",
        "\n",
        "[100, 125, -90, 345, 655, -1, 0, 200]\n",
        "\n",
        "Используйте list comprehensions"
      ],
      "metadata": {
        "id": "VPqTKZ_qeWJ_"
      }
    },
    {
      "cell_type": "code",
      "source": [
        "l"
      ],
      "metadata": {
        "id": "GkCARj8cn_iW"
      },
      "execution_count": null,
      "outputs": []
    },
    {
      "cell_type": "code",
      "source": [
        "def updated_value(old_value):\n",
        "  return old_value if old_value >0 else 0\n",
        "\n",
        "\n",
        "init_list = [100, 125, -90, 345, 655, -1, 0, 200]\n",
        "print(\"init_list:   \", *init_list)\n",
        "\n",
        "updated_list = [updated_value(old_value) for old_value in init_list]\n",
        "print(\"updated_list:\", *updated_list)\n",
        "\n",
        "SumOfUpdatedList = sum([updated_value(old_value) for old_value in init_list])\n",
        "print()\n",
        "print(\"Sum of Spendings via list conprehensions:\", SumOfUpdatedList)\n",
        "\n",
        "sumOfSpendings = 0\n",
        "for eachSpending in updated_list:\n",
        "    sumOfSpendings = sumOfSpendings + eachSpending\n",
        "print()\n",
        "print(\"Sum of Spendings via conventional for-in-loop:\", sumOfSpendings)"
      ],
      "metadata": {
        "id": "E7_faq9e2m0c",
        "colab": {
          "base_uri": "https://localhost:8080/"
        },
        "outputId": "23ab01fc-d3c6-4a86-b2e3-18577d74a513"
      },
      "execution_count": null,
      "outputs": [
        {
          "output_type": "stream",
          "name": "stdout",
          "text": [
            "init_list:    100 125 -90 345 655 -1 0 200\n",
            "updated_list: 100 125 0 345 655 0 0 200\n",
            "\n",
            "Sum of Spendings via list conprehensions: 1425\n",
            "\n",
            "Sum of Spendings via conventional for-in-loop: 1425\n"
          ]
        }
      ]
    },
    {
      "cell_type": "markdown",
      "source": [
        "##Условие 4:##\n",
        "\n",
        "Даны два списка.\n",
        "\n",
        "__Дата покупки__\n",
        "\n",
        "['2021-09-14', '2021-12-15', '2021-09-08', '2021-12-05',<br> '2021-10-09', '2021-09-30', '2021-12-22', '2021-11-29',<br> '2021-12-24', '2021-11-26', '2021-10-27', '2021-12-18', <br> '2021-11-09', '2021-11-23', '2021-09-27', '2021-10-02', <br> '2021-12-27', '2021-09-20', '2021-12-13', '2021-11-01', <br> '2021-11-09', '2021-12-06', '2021-12-08', '2021-10-09', <br> '2021-10-31', '2021-09-30', '2021-11-09', '2021-12-13', <br> '2021-10-26', '2021-12-09']\n",
        "\n",
        "__Суммы покупок по датам__\n",
        "\n",
        "[1270, 8413, 9028, 3703, 5739, 4095, <br> 295, 4944, 5723, 3701, 4471, 651, <br> 7037, 4274, 6275, 4988, 6930, 2971, <br> 6592, 2004, 2822, 519, 3406, 2732, <br> 5015, 2008, 316, 6333, 5700, 2887]\n",
        "\n",
        "4.1 Найдите, какая выручка у компании в ноябре\n",
        "\n",
        "_Используйте list comprehensions_\n",
        "\n",
        "4.2 Найдите выручку компании в зависимости от месяца\n",
        "\n",
        "Для этого напишите функцию, которая на вход принимает список с датами <br>\n",
        "и список с выручкой, а на выходе словарь, где ключи - это месяцы, <br>\n",
        "а значения - это выручка.\n",
        "\n",
        "_Используйте аннотирование типов._\n"
      ],
      "metadata": {
        "id": "xTCoEcdXoOdg"
      }
    },
    {
      "cell_type": "code",
      "source": [
        "def list_dates_to_monts(list_dates):\n",
        "  list_of_months = [element[5:7] for element in List_Of_Dates]\n",
        "  return list_of_months\n",
        "\n",
        "List_Of_Dates = ['2021-09-14', '2021-12-15', '2021-09-08', '2021-12-05', '2021-10-09', '2021-09-30', '2021-12-22', '2021-11-29', '2021-12-24', '2021-11-26', '2021-10-27', '2021-12-18', '2021-11-09', '2021-11-23', '2021-09-27', '2021-10-02', '2021-12-27', '2021-09-20', '2021-12-13', '2021-11-01', '2021-11-09', '2021-12-06', '2021-12-08', '2021-10-09', '2021-10-31', '2021-09-30', '2021-11-09', '2021-12-13', '2021-10-26', '2021-12-09']\n",
        "List_of_Revenue = [1270, 8413, 9028, 3703, 5739, 4095, 295, 4944, 5723, 3701, 4471, 651, 7037, 4274, 6275, 4988, 6930, 2971, 6592, 2004, 2822, 519, 3406, 2732, 5015, 2008, 316, 6333, 5700, 2887]\n",
        "\n",
        "List_of_Months = list_dates_to_monts(List_Of_Dates)\n",
        "print (\"List_of_Dates=\",len(List_Of_Dates))\n",
        "print(\"List_of_Revenue=\", len(List_of_Revenue))\n",
        "print (\"List_of_Months=\",len(list_dates_to_monts(List_Of_Dates)))\n",
        "# print(list_dates_to_monts(List_Of_Dates))\n",
        "\n",
        "# формируем словарь даты-суммы покупок\n",
        "# DatesAndRevenue = dict(zip(List_Of_Dates, List_of_Revenue))\n",
        "\n",
        "# формируем словарь месяца-суммы покупок\n",
        "# MonthsAndRevenue = dict(List_of_Months, List_of_Revenue)\n",
        "# print(MonthsAndRevenue)\n",
        "print(len(set(List_Of_Dates)))\n",
        "testdict = {'2021-09-14': 1270, '2021-09-15': 120}\n",
        "print(testdict)\n",
        "print(len(set(List_of_Revenue)))\n"
      ],
      "metadata": {
        "colab": {
          "base_uri": "https://localhost:8080/"
        },
        "id": "gPPNqxkbkQp7",
        "outputId": "480331af-878b-43a1-9301-8d4975ff1972"
      },
      "execution_count": null,
      "outputs": [
        {
          "output_type": "stream",
          "name": "stdout",
          "text": [
            "List_of_Dates= 30\n",
            "List_of_Revenue= 30\n",
            "List_of_Months= 30\n",
            "25\n",
            "{'2021-09-14': 1270, '2021-09-15': 120}\n",
            "30\n"
          ]
        }
      ]
    },
    {
      "cell_type": "code",
      "source": [],
      "metadata": {
        "id": "0CeTY9Qfvkno"
      },
      "execution_count": null,
      "outputs": []
    }
  ]
}