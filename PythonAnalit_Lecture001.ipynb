{
  "nbformat": 4,
  "nbformat_minor": 0,
  "metadata": {
    "colab": {
      "provenance": [],
      "authorship_tag": "ABX9TyPcMhOl6RUmpwBIItRMh12D",
      "include_colab_link": true
    },
    "kernelspec": {
      "name": "python3",
      "display_name": "Python 3"
    },
    "language_info": {
      "name": "python"
    }
  },
  "cells": [
    {
      "cell_type": "markdown",
      "metadata": {
        "id": "view-in-github",
        "colab_type": "text"
      },
      "source": [
        "<a href=\"https://colab.research.google.com/github/ValeriiLubiako/MyFirstRepository/blob/master/PythonAnalit_Lecture001.ipynb\" target=\"_parent\"><img src=\"https://colab.research.google.com/assets/colab-badge.svg\" alt=\"Open In Colab\"/></a>"
      ]
    },
    {
      "cell_type": "code",
      "execution_count": null,
      "metadata": {
        "id": "kDffDXYI--H8"
      },
      "outputs": [],
      "source": []
    },
    {
      "cell_type": "markdown",
      "source": [
        "Горячие клавиши\n",
        "\n",
        "Edit Mode (press Enter to enable)\n",
        "\n",
        "Ctrl-A : select all.\n",
        "\n",
        "Ctrl Home : go to cell start.\n",
        "\n",
        "Ctrl End : go to cell end.\n",
        "\n",
        "Ctrl Left : go one word left.\n",
        "\n",
        "Ctrl Right : go one word right.\n",
        "\n",
        "Tab : code completion or indent\n",
        "\n",
        "Shift-Tab : tooltip\n"
      ],
      "metadata": {
        "id": "Nui-FITV--0d"
      }
    },
    {
      "cell_type": "code",
      "source": [
        "pow(2,3)"
      ],
      "metadata": {
        "colab": {
          "base_uri": "https://localhost:8080/"
        },
        "id": "CECJBbv3_ILV",
        "outputId": "cf47969f-82ab-4c1a-ed9f-f8289da2ca25"
      },
      "execution_count": null,
      "outputs": [
        {
          "output_type": "execute_result",
          "data": {
            "text/plain": [
              "8"
            ]
          },
          "metadata": {},
          "execution_count": 3
        }
      ]
    },
    {
      "cell_type": "code",
      "source": [
        "pow (3,3)"
      ],
      "metadata": {
        "colab": {
          "base_uri": "https://localhost:8080/"
        },
        "id": "MZBNwmQz_qZe",
        "outputId": "763ceef3-9a24-4e6b-8b33-d480964c3a51"
      },
      "execution_count": null,
      "outputs": [
        {
          "output_type": "execute_result",
          "data": {
            "text/plain": [
              "27"
            ]
          },
          "metadata": {},
          "execution_count": 4
        }
      ]
    },
    {
      "cell_type": "code",
      "source": [
        "?pow"
      ],
      "metadata": {
        "id": "E4-joQdNBsDD"
      },
      "execution_count": null,
      "outputs": []
    },
    {
      "cell_type": "code",
      "source": [],
      "metadata": {
        "id": "HAP8fU7zB6ZM"
      },
      "execution_count": null,
      "outputs": []
    },
    {
      "cell_type": "markdown",
      "source": [
        "# Заголовок"
      ],
      "metadata": {
        "id": "kPVZAcRODc4Q"
      }
    },
    {
      "cell_type": "code",
      "source": [
        "from IPython.core.display import Markdown\n",
        "Markdown"
      ],
      "metadata": {
        "colab": {
          "base_uri": "https://localhost:8080/"
        },
        "id": "UsjI-NciDmm1",
        "outputId": "573ad68c-0f1d-47d5-a3af-48299428f7b2"
      },
      "execution_count": null,
      "outputs": [
        {
          "output_type": "execute_result",
          "data": {
            "text/plain": [
              "IPython.core.display.Markdown"
            ]
          },
          "metadata": {},
          "execution_count": 6
        }
      ]
    },
    {
      "cell_type": "code",
      "source": [
        "## Заголовок 2"
      ],
      "metadata": {
        "id": "7NbHp1OUEG7e"
      },
      "execution_count": null,
      "outputs": []
    },
    {
      "cell_type": "code",
      "source": [
        "Y"
      ],
      "metadata": {
        "colab": {
          "base_uri": "https://localhost:8080/",
          "height": 166
        },
        "id": "g1voAkHTERTW",
        "outputId": "ad7f7793-8021-4bcf-a377-2fe32fd1c6ea"
      },
      "execution_count": null,
      "outputs": [
        {
          "output_type": "error",
          "ename": "NameError",
          "evalue": "ignored",
          "traceback": [
            "\u001b[0;31m---------------------------------------------------------------------------\u001b[0m",
            "\u001b[0;31mNameError\u001b[0m                                 Traceback (most recent call last)",
            "\u001b[0;32m<ipython-input-8-c881daf1af41>\u001b[0m in \u001b[0;36m<cell line: 1>\u001b[0;34m()\u001b[0m\n\u001b[0;32m----> 1\u001b[0;31m \u001b[0mY\u001b[0m\u001b[0;34m\u001b[0m\u001b[0;34m\u001b[0m\u001b[0m\n\u001b[0m",
            "\u001b[0;31mNameError\u001b[0m: name 'Y' is not defined"
          ]
        }
      ]
    },
    {
      "cell_type": "markdown",
      "source": [
        "## Заголовок 2"
      ],
      "metadata": {
        "id": "fXTWpp9vEau-"
      }
    },
    {
      "cell_type": "code",
      "source": [],
      "metadata": {
        "id": "h9uADAZNEgQ9"
      },
      "execution_count": null,
      "outputs": []
    },
    {
      "cell_type": "markdown",
      "source": [
        "#### Заголовок 4"
      ],
      "metadata": {
        "id": "v5LXnhkKEoKn"
      }
    },
    {
      "cell_type": "code",
      "source": [],
      "metadata": {
        "id": "l1vHC4iMErqe"
      },
      "execution_count": null,
      "outputs": []
    },
    {
      "cell_type": "markdown",
      "source": [
        "######   Заголовок"
      ],
      "metadata": {
        "id": "uVSux3_FEypN"
      }
    },
    {
      "cell_type": "code",
      "source": [],
      "metadata": {
        "id": "3Syqk-PkE3PV"
      },
      "execution_count": null,
      "outputs": []
    },
    {
      "cell_type": "markdown",
      "source": [
        "**bold**    __bold__  *italic*   _italic_"
      ],
      "metadata": {
        "id": "NfINHz3cJs04"
      }
    },
    {
      "cell_type": "code",
      "source": [],
      "metadata": {
        "id": "gkv1bRnuJ5Hw"
      },
      "execution_count": null,
      "outputs": []
    },
    {
      "cell_type": "markdown",
      "source": [
        "<table>\n",
        "  <tr>\n",
        "      <td>первый столбик</td>\n",
        "      <td>второй столбик</td>\n",
        "  </tr>\n",
        "  <tr>\n",
        "      <td>первый столбик</td>\n",
        "      <td>второй столбик</td>\n",
        "  </tr>\n",
        "</table>"
      ],
      "metadata": {
        "id": "VAaTOJ2WKdZv"
      }
    },
    {
      "cell_type": "code",
      "source": [
        "client_data = {\n",
        "    'name':'John',\n",
        "    'surname':'Doe',\n",
        "    'age' : 32\n",
        "}\n",
        "client_data"
      ],
      "metadata": {
        "colab": {
          "base_uri": "https://localhost:8080/"
        },
        "id": "oBQLlNbsK7eG",
        "outputId": "47915127-a248-4011-95ee-f2acfd49fb68"
      },
      "execution_count": null,
      "outputs": [
        {
          "output_type": "execute_result",
          "data": {
            "text/plain": [
              "{'name': 'John', 'surname': 'Doe', 'age': 32}"
            ]
          },
          "metadata": {},
          "execution_count": 10
        }
      ]
    },
    {
      "cell_type": "code",
      "source": [
        "client_data[\"name\"]"
      ],
      "metadata": {
        "colab": {
          "base_uri": "https://localhost:8080/",
          "height": 35
        },
        "id": "nsdd-s-xMCjd",
        "outputId": "8f70f3af-0d2e-4729-d03d-919959fae065"
      },
      "execution_count": null,
      "outputs": [
        {
          "output_type": "execute_result",
          "data": {
            "text/plain": [
              "'John'"
            ],
            "application/vnd.google.colaboratory.intrinsic+json": {
              "type": "string"
            }
          },
          "metadata": {},
          "execution_count": 12
        }
      ]
    },
    {
      "cell_type": "code",
      "source": [
        "key=\"name\"\n",
        "client_data[key]"
      ],
      "metadata": {
        "colab": {
          "base_uri": "https://localhost:8080/",
          "height": 35
        },
        "id": "r6Lsk-eZMmv8",
        "outputId": "348dae25-cef4-4379-9fbf-bdcd63523a94"
      },
      "execution_count": null,
      "outputs": [
        {
          "output_type": "execute_result",
          "data": {
            "text/plain": [
              "'John'"
            ],
            "application/vnd.google.colaboratory.intrinsic+json": {
              "type": "string"
            }
          },
          "metadata": {},
          "execution_count": 14
        }
      ]
    },
    {
      "cell_type": "code",
      "source": [
        "client_data.get(\"key\")"
      ],
      "metadata": {
        "id": "zFjiNKH-MvAE"
      },
      "execution_count": null,
      "outputs": []
    },
    {
      "cell_type": "code",
      "source": [
        "client_data.keys()"
      ],
      "metadata": {
        "colab": {
          "base_uri": "https://localhost:8080/"
        },
        "id": "kvSKcCMrNG78",
        "outputId": "39fc93ef-cf27-4d16-a283-e59634f31767"
      },
      "execution_count": null,
      "outputs": [
        {
          "output_type": "execute_result",
          "data": {
            "text/plain": [
              "dict_keys(['name', 'surname', 'age'])"
            ]
          },
          "metadata": {},
          "execution_count": 17
        }
      ]
    },
    {
      "cell_type": "code",
      "source": [
        "client_data.values()"
      ],
      "metadata": {
        "colab": {
          "base_uri": "https://localhost:8080/"
        },
        "id": "0-XDOMx-OlwC",
        "outputId": "1ab25495-5553-4fd3-8b80-3924bf25c507"
      },
      "execution_count": null,
      "outputs": [
        {
          "output_type": "execute_result",
          "data": {
            "text/plain": [
              "dict_values(['John', 'Doe', 32])"
            ]
          },
          "metadata": {},
          "execution_count": 19
        }
      ]
    },
    {
      "cell_type": "code",
      "source": [
        "client_data.items()"
      ],
      "metadata": {
        "colab": {
          "base_uri": "https://localhost:8080/"
        },
        "id": "UsPgsE1NOtRz",
        "outputId": "1862fdb6-2f35-4a89-a118-59ee3c2699de"
      },
      "execution_count": null,
      "outputs": [
        {
          "output_type": "execute_result",
          "data": {
            "text/plain": [
              "dict_items([('name', 'John'), ('surname', 'Doe'), ('age', 32)])"
            ]
          },
          "metadata": {},
          "execution_count": 20
        }
      ]
    },
    {
      "cell_type": "code",
      "source": [
        "for k,v in client_data.items():\n",
        "  print(f'{k}:{v}')"
      ],
      "metadata": {
        "colab": {
          "base_uri": "https://localhost:8080/"
        },
        "id": "ZM8YZBBeOpWC",
        "outputId": "f6f99639-e70b-43d1-dbad-92712e06f79d"
      },
      "execution_count": null,
      "outputs": [
        {
          "output_type": "stream",
          "name": "stdout",
          "text": [
            "name:John\n",
            "surname:Doe\n",
            "age:32\n"
          ]
        }
      ]
    },
    {
      "cell_type": "code",
      "source": [
        "client_data['height']=186\n",
        "client_data"
      ],
      "metadata": {
        "colab": {
          "base_uri": "https://localhost:8080/"
        },
        "id": "rcQWJAGWPSFB",
        "outputId": "c6bf4e4c-3195-497e-b8a3-bed36a788d3c"
      },
      "execution_count": null,
      "outputs": [
        {
          "output_type": "execute_result",
          "data": {
            "text/plain": [
              "{'name': 'John', 'surname': 'Doe', 'age': 32, 'height': 186}"
            ]
          },
          "metadata": {},
          "execution_count": 26
        }
      ]
    },
    {
      "cell_type": "code",
      "source": [
        "client_data[\"age\"] = 14\n",
        "client_data"
      ],
      "metadata": {
        "colab": {
          "base_uri": "https://localhost:8080/"
        },
        "id": "Jm9fhILlP7G4",
        "outputId": "11772514-e9f9-41c0-c33e-659325bbe45d"
      },
      "execution_count": null,
      "outputs": [
        {
          "output_type": "execute_result",
          "data": {
            "text/plain": [
              "{'name': 'John', 'surname': 'Doe', 'age': 14, 'height': 186}"
            ]
          },
          "metadata": {},
          "execution_count": 27
        }
      ]
    },
    {
      "cell_type": "code",
      "source": [
        "client_data = {\n",
        "    'name':'John',\n",
        "    'surbame':\"Doe\",\n",
        "    \"age\":32\n",
        "}\n",
        "client_data"
      ],
      "metadata": {
        "colab": {
          "base_uri": "https://localhost:8080/"
        },
        "id": "q8VJY0jlQSFQ",
        "outputId": "1473c16a-7d94-4cf1-d8d2-81d2817f97f9"
      },
      "execution_count": null,
      "outputs": [
        {
          "output_type": "execute_result",
          "data": {
            "text/plain": [
              "{'name': 'John', 'surbame': 'Doe', 'age': 32}"
            ]
          },
          "metadata": {},
          "execution_count": 28
        }
      ]
    },
    {
      "cell_type": "code",
      "source": [
        "client_data.setdefault('age',14)\n",
        "client_data"
      ],
      "metadata": {
        "colab": {
          "base_uri": "https://localhost:8080/"
        },
        "id": "rf5pEFbzSWtN",
        "outputId": "8d36427c-ee02-4230-b2af-a8aedfca4399"
      },
      "execution_count": null,
      "outputs": [
        {
          "output_type": "execute_result",
          "data": {
            "text/plain": [
              "{'name': 'John', 'surbame': 'Doe', 'age': 32}"
            ]
          },
          "metadata": {},
          "execution_count": 30
        }
      ]
    },
    {
      "cell_type": "code",
      "source": [
        "client_data = {\n",
        "    'name':'John',\n",
        "    'surbame':\"Doe\"\n",
        "}\n",
        "client_data.setdefault('age',14)\n",
        "client_data"
      ],
      "metadata": {
        "colab": {
          "base_uri": "https://localhost:8080/"
        },
        "id": "LqhBOOh3SjSk",
        "outputId": "492d8050-01e0-41ff-8fab-8b4c70586f3e"
      },
      "execution_count": null,
      "outputs": [
        {
          "output_type": "execute_result",
          "data": {
            "text/plain": [
              "{'name': 'John', 'surbame': 'Doe', 'age': 14}"
            ]
          },
          "metadata": {},
          "execution_count": 32
        }
      ]
    },
    {
      "cell_type": "code",
      "source": [
        "client_data.update({\n",
        "    'age':32,\n",
        "    \"body\":{\n",
        "        'weight':80,\n",
        "        \"height\":186\n",
        "    }\n",
        "})\n",
        "client_data"
      ],
      "metadata": {
        "colab": {
          "base_uri": "https://localhost:8080/"
        },
        "id": "gGd_8RhzTA-t",
        "outputId": "0224911c-969e-428e-faf0-1659a0dec849"
      },
      "execution_count": null,
      "outputs": [
        {
          "output_type": "execute_result",
          "data": {
            "text/plain": [
              "{'name': 'John',\n",
              " 'surbame': 'Doe',\n",
              " 'age': 32,\n",
              " 'body': {'weight': 80, 'height': 186}}"
            ]
          },
          "metadata": {},
          "execution_count": 33
        }
      ]
    },
    {
      "cell_type": "code",
      "source": [
        "client_data['body']"
      ],
      "metadata": {
        "colab": {
          "base_uri": "https://localhost:8080/"
        },
        "id": "loWFUXePTqSM",
        "outputId": "ea0db5bd-3c57-45bf-fe65-e2687247f998"
      },
      "execution_count": null,
      "outputs": [
        {
          "output_type": "execute_result",
          "data": {
            "text/plain": [
              "{'weight': 80, 'height': 186}"
            ]
          },
          "metadata": {},
          "execution_count": 35
        }
      ]
    },
    {
      "cell_type": "code",
      "source": [
        "client_data['body'][\"height\"]"
      ],
      "metadata": {
        "colab": {
          "base_uri": "https://localhost:8080/"
        },
        "id": "pZAm4K6ZUA0U",
        "outputId": "9e09d5bc-cbb0-4019-d4cf-4bdb1d5b91e9"
      },
      "execution_count": null,
      "outputs": [
        {
          "output_type": "execute_result",
          "data": {
            "text/plain": [
              "186"
            ]
          },
          "metadata": {},
          "execution_count": 40
        }
      ]
    },
    {
      "cell_type": "code",
      "source": [
        "import random"
      ],
      "metadata": {
        "id": "cP73eyuaUKhL"
      },
      "execution_count": null,
      "outputs": []
    },
    {
      "cell_type": "code",
      "source": [
        "random.randint(0,10)"
      ],
      "metadata": {
        "colab": {
          "base_uri": "https://localhost:8080/"
        },
        "id": "f5M6doL8U92m",
        "outputId": "49f084cc-73fd-4ff0-f603-b63ed14b61d8"
      },
      "execution_count": null,
      "outputs": [
        {
          "output_type": "execute_result",
          "data": {
            "text/plain": [
              "2"
            ]
          },
          "metadata": {},
          "execution_count": 43
        }
      ]
    },
    {
      "cell_type": "code",
      "source": [
        "random.seed(9)\n",
        "random.randint(0,10)"
      ],
      "metadata": {
        "colab": {
          "base_uri": "https://localhost:8080/"
        },
        "id": "lbND7ciaVJ4C",
        "outputId": "eeca385f-5a0e-4335-ce44-b5f60e905d6b"
      },
      "execution_count": null,
      "outputs": [
        {
          "output_type": "execute_result",
          "data": {
            "text/plain": [
              "7"
            ]
          },
          "metadata": {},
          "execution_count": 45
        }
      ]
    },
    {
      "cell_type": "code",
      "source": [
        "random.random()"
      ],
      "metadata": {
        "colab": {
          "base_uri": "https://localhost:8080/"
        },
        "id": "OMMJHRYeVaWy",
        "outputId": "efff02ad-f7aa-4f2f-9156-9b64227dda0d"
      },
      "execution_count": null,
      "outputs": [
        {
          "output_type": "execute_result",
          "data": {
            "text/plain": [
              "0.6132152331867212"
            ]
          },
          "metadata": {},
          "execution_count": 46
        }
      ]
    },
    {
      "cell_type": "code",
      "source": [
        "random.uniform(0,10)"
      ],
      "metadata": {
        "colab": {
          "base_uri": "https://localhost:8080/"
        },
        "id": "-5pzVA53VzOK",
        "outputId": "a47424ca-144c-424c-9359-ea663bfcd9e7"
      },
      "execution_count": null,
      "outputs": [
        {
          "output_type": "execute_result",
          "data": {
            "text/plain": [
              "4.637215353421715"
            ]
          },
          "metadata": {},
          "execution_count": 51
        }
      ]
    },
    {
      "cell_type": "code",
      "source": [
        "a = [\"black\",\"red\",\"yellow\",\"green\"]\n",
        "random.sample(a,2)"
      ],
      "metadata": {
        "colab": {
          "base_uri": "https://localhost:8080/"
        },
        "id": "kDP8UJNLV7UR",
        "outputId": "669b4383-7dcd-44cb-e952-f21a6b5673a3"
      },
      "execution_count": null,
      "outputs": [
        {
          "output_type": "execute_result",
          "data": {
            "text/plain": [
              "['green', 'black']"
            ]
          },
          "metadata": {},
          "execution_count": 54
        }
      ]
    },
    {
      "cell_type": "code",
      "source": [
        "a = [\"black\",\"red\",\"yellow\",\"green\"]\n",
        "a"
      ],
      "metadata": {
        "colab": {
          "base_uri": "https://localhost:8080/"
        },
        "id": "ak2ZluSJWn2I",
        "outputId": "4d2d7fac-1c80-411b-dc23-5b99ec049d45"
      },
      "execution_count": null,
      "outputs": [
        {
          "output_type": "execute_result",
          "data": {
            "text/plain": [
              "['black', 'red', 'yellow', 'green']"
            ]
          },
          "metadata": {},
          "execution_count": 58
        }
      ]
    },
    {
      "cell_type": "code",
      "source": [
        "random.shuffle(a)\n",
        "a"
      ],
      "metadata": {
        "colab": {
          "base_uri": "https://localhost:8080/"
        },
        "id": "5T85faguW40w",
        "outputId": "fc06f3a4-4c5f-4dec-a8c4-3f53e38028c7"
      },
      "execution_count": null,
      "outputs": [
        {
          "output_type": "execute_result",
          "data": {
            "text/plain": [
              "['yellow', 'green', 'red', 'black']"
            ]
          },
          "metadata": {},
          "execution_count": 61
        }
      ]
    },
    {
      "cell_type": "code",
      "source": [
        "random.choice(a)"
      ],
      "metadata": {
        "colab": {
          "base_uri": "https://localhost:8080/",
          "height": 35
        },
        "id": "VVW7g2YRXLQg",
        "outputId": "208da1cc-1804-4954-9654-d24c9b24dcdc"
      },
      "execution_count": null,
      "outputs": [
        {
          "output_type": "execute_result",
          "data": {
            "text/plain": [
              "'yellow'"
            ],
            "application/vnd.google.colaboratory.intrinsic+json": {
              "type": "string"
            }
          },
          "metadata": {},
          "execution_count": 62
        }
      ]
    },
    {
      "cell_type": "code",
      "source": [
        "random.choice(a)"
      ],
      "metadata": {
        "colab": {
          "base_uri": "https://localhost:8080/",
          "height": 35
        },
        "id": "H1mAQC4DXbVH",
        "outputId": "5c56db66-6520-4bb7-9c8e-d61cdbeef4a2"
      },
      "execution_count": null,
      "outputs": [
        {
          "output_type": "execute_result",
          "data": {
            "text/plain": [
              "'red'"
            ],
            "application/vnd.google.colaboratory.intrinsic+json": {
              "type": "string"
            }
          },
          "metadata": {},
          "execution_count": 63
        }
      ]
    },
    {
      "cell_type": "code",
      "source": [
        "def calc_sum(a,b):\n",
        "  print(f'a is {a}')\n",
        "  print(f\"b is {b}\")\n",
        "  result = a+b\n",
        "  return result"
      ],
      "metadata": {
        "id": "QCA_VTm-XfQQ"
      },
      "execution_count": null,
      "outputs": []
    },
    {
      "cell_type": "code",
      "source": [
        "calc_sum(3,5)"
      ],
      "metadata": {
        "colab": {
          "base_uri": "https://localhost:8080/"
        },
        "id": "nuznWLZiYP6m",
        "outputId": "db8b0fc6-0cbb-4028-e11a-3b5ac89459f1"
      },
      "execution_count": null,
      "outputs": [
        {
          "output_type": "stream",
          "name": "stdout",
          "text": [
            "a is 3\n",
            "b is 5\n"
          ]
        },
        {
          "output_type": "execute_result",
          "data": {
            "text/plain": [
              "8"
            ]
          },
          "metadata": {},
          "execution_count": 65
        }
      ]
    },
    {
      "cell_type": "code",
      "source": [
        "calc_sum(a=3,b=5)"
      ],
      "metadata": {
        "colab": {
          "base_uri": "https://localhost:8080/"
        },
        "id": "pJepCO5RYVfG",
        "outputId": "32f8258b-9f8a-4d12-ef4b-71538956db8f"
      },
      "execution_count": null,
      "outputs": [
        {
          "output_type": "stream",
          "name": "stdout",
          "text": [
            "a is 3\n",
            "b is 5\n"
          ]
        },
        {
          "output_type": "execute_result",
          "data": {
            "text/plain": [
              "8"
            ]
          },
          "metadata": {},
          "execution_count": 66
        }
      ]
    },
    {
      "cell_type": "code",
      "source": [
        "calc_sum(b=5,a=3)"
      ],
      "metadata": {
        "colab": {
          "base_uri": "https://localhost:8080/"
        },
        "id": "dRmTeeYOYuhu",
        "outputId": "60b7f808-261b-43e5-c1c6-4bae7c572344"
      },
      "execution_count": null,
      "outputs": [
        {
          "output_type": "stream",
          "name": "stdout",
          "text": [
            "a is 3\n",
            "b is 5\n"
          ]
        },
        {
          "output_type": "execute_result",
          "data": {
            "text/plain": [
              "8"
            ]
          },
          "metadata": {},
          "execution_count": 67
        }
      ]
    },
    {
      "cell_type": "code",
      "source": [
        "calc_sum(5,b=3)"
      ],
      "metadata": {
        "colab": {
          "base_uri": "https://localhost:8080/"
        },
        "id": "sOCqBvurY6n2",
        "outputId": "e71d072e-d990-4b3b-ef66-2c19fdbb8873"
      },
      "execution_count": null,
      "outputs": [
        {
          "output_type": "stream",
          "name": "stdout",
          "text": [
            "a is 5\n",
            "b is 3\n"
          ]
        },
        {
          "output_type": "execute_result",
          "data": {
            "text/plain": [
              "8"
            ]
          },
          "metadata": {},
          "execution_count": 69
        }
      ]
    },
    {
      "cell_type": "code",
      "source": [
        "calc_sum(3,b=5)"
      ],
      "metadata": {
        "colab": {
          "base_uri": "https://localhost:8080/"
        },
        "id": "RvjdilSEZJVm",
        "outputId": "b001f9ad-802b-4e5e-bd46-0299f2a7d8f5"
      },
      "execution_count": null,
      "outputs": [
        {
          "output_type": "stream",
          "name": "stdout",
          "text": [
            "a is 3\n",
            "b is 5\n"
          ]
        },
        {
          "output_type": "execute_result",
          "data": {
            "text/plain": [
              "8"
            ]
          },
          "metadata": {},
          "execution_count": 70
        }
      ]
    },
    {
      "cell_type": "code",
      "source": [
        "def say_hi(greeting = \"Hello\", name = \"World\"):\n",
        "  return f'{greeting}, {name}'\n",
        "say_hi()"
      ],
      "metadata": {
        "colab": {
          "base_uri": "https://localhost:8080/",
          "height": 35
        },
        "id": "SrOevmd_ZT44",
        "outputId": "b8ad4ed5-2ee7-467a-f9eb-2d9ff267946c"
      },
      "execution_count": null,
      "outputs": [
        {
          "output_type": "execute_result",
          "data": {
            "text/plain": [
              "'Hello, World'"
            ],
            "application/vnd.google.colaboratory.intrinsic+json": {
              "type": "string"
            }
          },
          "metadata": {},
          "execution_count": 73
        }
      ]
    },
    {
      "cell_type": "code",
      "source": [
        "def say_hi(greeting, name = \"World\"):\n",
        "  return f'{greeting}, {name}'\n",
        "say_hi(\"Hi\")"
      ],
      "metadata": {
        "colab": {
          "base_uri": "https://localhost:8080/",
          "height": 35
        },
        "id": "7NDt2SM2abg-",
        "outputId": "8729c265-8558-47d6-c4f4-ed02a6cc2359"
      },
      "execution_count": null,
      "outputs": [
        {
          "output_type": "execute_result",
          "data": {
            "text/plain": [
              "'Hi, World'"
            ],
            "application/vnd.google.colaboratory.intrinsic+json": {
              "type": "string"
            }
          },
          "metadata": {},
          "execution_count": 76
        }
      ]
    },
    {
      "cell_type": "code",
      "source": [
        "def calc_sum(a,b,c):\n",
        "  result = a+b+c\n",
        "  return result\n",
        "calc_sum(1,2,3)"
      ],
      "metadata": {
        "colab": {
          "base_uri": "https://localhost:8080/"
        },
        "id": "z4BkEDo2bCjW",
        "outputId": "b57d19ff-2b26-4789-eb3b-356a61222558"
      },
      "execution_count": null,
      "outputs": [
        {
          "output_type": "execute_result",
          "data": {
            "text/plain": [
              "6"
            ]
          },
          "metadata": {},
          "execution_count": 77
        }
      ]
    },
    {
      "cell_type": "code",
      "source": [
        "def calc_sum(*args):\n",
        "  print(args)\n",
        "  print(type(args))\n",
        "  result = sum(args)\n",
        "  return result\n",
        "calc_sum(1,2,3,4,5,6)"
      ],
      "metadata": {
        "colab": {
          "base_uri": "https://localhost:8080/"
        },
        "id": "y5oGjgOmdBwS",
        "outputId": "ba623b03-ebad-43b3-c802-1334e7357e27"
      },
      "execution_count": null,
      "outputs": [
        {
          "output_type": "stream",
          "name": "stdout",
          "text": [
            "(1, 2, 3, 4, 5, 6)\n",
            "<class 'tuple'>\n"
          ]
        },
        {
          "output_type": "execute_result",
          "data": {
            "text/plain": [
              "21"
            ]
          },
          "metadata": {},
          "execution_count": 82
        }
      ]
    },
    {
      "cell_type": "code",
      "source": [
        "def printer(**kwargs):\n",
        "  print(type(kwargs))\n",
        "  print()\n",
        "  for key, value in kwargs.items():\n",
        "    print(f'{key} - {value}')"
      ],
      "metadata": {
        "id": "h1wg6WsBdccZ"
      },
      "execution_count": null,
      "outputs": []
    },
    {
      "cell_type": "code",
      "source": [
        "printer(a=10, b= '20')"
      ],
      "metadata": {
        "colab": {
          "base_uri": "https://localhost:8080/"
        },
        "id": "pSu8NTjhfvMg",
        "outputId": "42727eb6-66cf-4d60-cced-5e961ca4573a"
      },
      "execution_count": null,
      "outputs": [
        {
          "output_type": "stream",
          "name": "stdout",
          "text": [
            "<class 'dict'>\n",
            "\n",
            "a - 10\n",
            "b - 20\n"
          ]
        }
      ]
    },
    {
      "cell_type": "code",
      "source": [
        "printer(a=10,b=20,c=30,d=40)"
      ],
      "metadata": {
        "colab": {
          "base_uri": "https://localhost:8080/"
        },
        "id": "Y0VvvLlxgQ5-",
        "outputId": "c0561e2e-7fe1-4a8b-cb2e-796b2ddd1f5d"
      },
      "execution_count": null,
      "outputs": [
        {
          "output_type": "stream",
          "name": "stdout",
          "text": [
            "<class 'dict'>\n",
            "\n",
            "a - 10\n",
            "b - 20\n",
            "c - 30\n",
            "d - 40\n"
          ]
        }
      ]
    },
    {
      "cell_type": "code",
      "source": [],
      "metadata": {
        "id": "b3fDnriFgiJW"
      },
      "execution_count": null,
      "outputs": []
    }
  ]
}